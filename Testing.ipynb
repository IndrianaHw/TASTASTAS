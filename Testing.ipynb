{
 "cells": [
  {
   "cell_type": "code",
   "execution_count": null,
   "id": "49a6723d",
   "metadata": {},
   "outputs": [],
   "source": [
    "import lstm_encoder_decoder\n",
    "import torch.nn as nn"
   ]
  },
  {
   "cell_type": "code",
   "execution_count": null,
   "id": "091cf4c9",
   "metadata": {
    "lines_to_next_cell": 1
   },
   "outputs": [],
   "source": [
    "import torch"
   ]
  },
  {
   "cell_type": "code",
   "execution_count": null,
   "id": "07f2a8c0",
   "metadata": {
    "lines_to_next_cell": 1
   },
   "outputs": [],
   "source": [
    "def MAE(pred, true):\n",
    "    return torch.mean(torch.abs(pred-true))"
   ]
  },
  {
   "cell_type": "code",
   "execution_count": null,
   "id": "023c2e46",
   "metadata": {},
   "outputs": [],
   "source": [
    "def MSE(pred, true):\n",
    "    return torch.mean((pred-true)**2)"
   ]
  },
  {
   "cell_type": "code",
   "execution_count": null,
   "id": "00ae69f2",
   "metadata": {
    "lines_to_next_cell": 1
   },
   "outputs": [],
   "source": [
    "def RMSE_PC(model_out,test_output):\n",
    "    loss_func = nn.MSELoss()\n",
    "    mse=loss_func(model_out,test_output)\n",
    "    RMSE_loss=torch.sqrt(mse)\n",
    "    return RMSE_loss"
   ]
  },
  {
   "cell_type": "code",
   "execution_count": null,
   "id": "70649d2f",
   "metadata": {},
   "outputs": [],
   "source": [
    "Xtest=torch.load('test_encoder_input.pt').transpose(0,1).unsqueeze(2)\n",
    "Ytest=torch.load('test_output.pt').transpose(0,1).unsqueeze(2)"
   ]
  },
  {
   "cell_type": "code",
   "execution_count": null,
   "id": "4aaf1234",
   "metadata": {},
   "outputs": [],
   "source": [
    "print(Xtest.shape)\n",
    "print(Ytest.shape)\n",
    "model=torch.load('lstm_model.pt')\n",
    "model.eval()"
   ]
  },
  {
   "cell_type": "code",
   "execution_count": null,
   "id": "01af580c",
   "metadata": {},
   "outputs": [],
   "source": [
    "output=model.predict(Xtest,24)\n",
    "print(output.shape)\n",
    "mse=MSE(output,Ytest)\n",
    "print(mse)\n",
    "print(MAE(output,Ytest))"
   ]
  }
 ],
 "metadata": {
  "jupytext": {
   "cell_metadata_filter": "-all",
   "main_language": "python",
   "notebook_metadata_filter": "-all"
  }
 },
 "nbformat": 4,
 "nbformat_minor": 5
}
