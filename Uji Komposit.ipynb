{
 "cells": [
  {
   "cell_type": "code",
   "execution_count": 2,
   "id": "31764cb8",
   "metadata": {},
   "outputs": [
    {
     "name": "stdout",
     "output_type": "stream",
     "text": [
      "Rata-rata ozon saat QBO positif: 5.51 ± 0.15\n",
      "Rata-rata ozon saat QBO negatif: 5.33 ± 0.15\n",
      "Uji t: t = 11.887, p-value = 0.000\n"
     ]
    },
    {
     "name": "stderr",
     "output_type": "stream",
     "text": [
      "C:\\Users\\HP\\AppData\\Local\\Temp\\ipykernel_22376\\3497827451.py:35: MatplotlibDeprecationWarning: The 'labels' parameter of boxplot() has been renamed 'tick_labels' since Matplotlib 3.9; support for the old name will be dropped in 3.11.\n",
      "  plt.boxplot([ozon_qbo_pos, ozon_qbo_neg], labels=['QBO Positif', 'QBO Negatif'])\n"
     ]
    },
    {
     "data": {
      "image/png": "[encoded data removed]",
      "text/plain": [
       "<Figure size 640x480 with 1 Axes>"
      ]
     },
     "metadata": {},
     "output_type": "display_data"
    }
   ],
   "source": [
    "import pandas as pd\n",
    "import numpy as np\n",
    "import matplotlib.pyplot as plt\n",
    "from scipy.stats import ttest_ind\n",
    "\n",
    "# Baca data dari file Excel\n",
    "# Ganti sheet_name jika diperlukan, atau hapus jika hanya ada satu sheet\n",
    "data = pd.read_excel('Data Gabungan.xlsx', sheet_name=0)\n",
    "\n",
    "# Pastikan kolom bernama 'ozon' dan 'QBO'\n",
    "if not {'TCO', 'QBO'}.issubset(data.columns):\n",
    "    raise ValueError(\"Pastikan file memiliki kolom 'TCO' dan 'QBO'.\")\n",
    "\n",
    "# Definisikan threshold QBO untuk memisahkan fase positif dan negatif\n",
    "threshold = 0\n",
    "\n",
    "# Buat dua grup berdasarkan QBO\n",
    "ozon_qbo_pos = data.loc[data['QBO'] > threshold, 'TCO']\n",
    "ozon_qbo_neg = data.loc[data['QBO'] < threshold, 'TCO']\n",
    "\n",
    "# Hitung rata-rata dan standar deviasi\n",
    "mean_pos = ozon_qbo_pos.mean()\n",
    "std_pos = ozon_qbo_pos.std()\n",
    "mean_neg = ozon_qbo_neg.mean()\n",
    "std_neg = ozon_qbo_neg.std()\n",
    "\n",
    "print(f'Rata-rata ozon saat QBO positif: {mean_pos:.2f} ± {std_pos:.2f}')\n",
    "print(f'Rata-rata ozon saat QBO negatif: {mean_neg:.2f} ± {std_neg:.2f}')\n",
    "\n",
    "# Uji t untuk membandingkan kedua grup\n",
    "t_stat, p_val = ttest_ind(ozon_qbo_pos, ozon_qbo_neg, equal_var=False)\n",
    "print(f'Uji t: t = {t_stat:.3f}, p-value = {p_val:.3f}')\n",
    "\n",
    "# Visualisasi hasil komposit\n",
    "plt.boxplot([ozon_qbo_pos, ozon_qbo_neg], labels=['QBO Positif', 'QBO Negatif'])\n",
    "plt.ylabel('Konsentrasi Ozon')\n",
    "plt.title('Komposit Konsentrasi Ozon Berdasarkan Fase QBO')\n",
    "plt.show()"
   ]
  },
  {
   "cell_type": "code",
   "execution_count": null,
   "id": "7500a999",
   "metadata": {},
   "outputs": [],
   "source": [
    "import pandas as pd\n",
    "\n",
    "# Load Excel file\n",
    "file_path = \"Data Gabungan.xlsx\"\n",
    "excel_file = pd.ExcelFile(file_path)\n",
    "\n",
    "# Tampilkan nama-nama sheet\n",
    "sheet_names = excel_file.sheet_names\n",
    "sheet_names\n",
    "\n",
    "# Baca isi dari Sheet1\n",
    "df = excel_file.parse('Sheet1')\n",
    "\n",
    "# Tampilkan 5 baris pertama dan tipe data\n",
    "df.head(), df.dtypes"
   ]
  },
  {
   "cell_type": "code",
   "execution_count": null,
   "id": "f714ff29",
   "metadata": {},
   "outputs": [],
   "source": [
    "# Salin dataframe agar bisa dimodifikasi\n",
    "df_comp = df.copy()\n",
    "\n",
    "# Definisikan fase QBO dan SOI\n",
    "df_comp['QBO_phase'] = df_comp['QBO'].apply(lambda x: 'Timur' if x >= 0 else 'Barat')\n",
    "df_comp['SOI_phase'] = df_comp['SOI'].apply(lambda x: 'LaNina' if x >= 0 else 'ElNino')\n",
    "\n",
    "# Gabungkan jadi satu kategori gabungan\n",
    "df_comp['Gabungan'] = df_comp['QBO_phase'] + ' + ' + df_comp['SOI_phase']\n",
    "\n",
    "# Hitung rata-rata index curah hujan untuk masing-masing kombinasi\n",
    "composite_result = df_comp.groupby('Gabungan')['Index'].mean().reset_index()\n",
    "composite_result.columns = ['Fase QBO + SOI', 'Rata-rata Indeks Curah Hujan']\n",
    "composite_result"
   ]
  },
  {
   "cell_type": "code",
   "execution_count": null,
   "id": "555b837d",
   "metadata": {},
   "outputs": [],
   "source": [
    "import matplotlib.pyplot as plt\n",
    "import seaborn as sns\n",
    "\n",
    "# Set style\n",
    "sns.set(style=\"whitegrid\")\n",
    "plt.figure(figsize=(8, 5))\n",
    "\n",
    "# Plot bar chart\n",
    "sns.barplot(data=composite_result, x='Fase QBO + SOI', y='Rata-rata Indeks Curah Hujan', palette='coolwarm')\n",
    "\n",
    "# Tambahkan garis nol dan label\n",
    "plt.axhline(0, color='gray', linestyle='--')\n",
    "plt.title('Analisis Komposit Indeks Curah Hujan\\nberdasarkan Fase QBO dan SOI')\n",
    "plt.ylabel('Rata-rata Indeks Curah Hujan')\n",
    "plt.xlabel('Kombinasi Fase QBO + SOI')\n",
    "plt.tight_layout()\n",
    "plt.show()"
   ]
  },
  {
   "cell_type": "code",
   "execution_count": null,
   "id": "694e0027",
   "metadata": {},
   "outputs": [],
   "source": [
    "from scipy.stats import ttest_ind\n",
    "from itertools import combinations\n",
    "\n",
    "# Ambil semua kombinasi pasangan unik dari kategori 'Gabungan'\n",
    "combinations_list = list(combinations(df_comp['Gabungan'].unique(), 2))\n",
    "\n",
    "# Simpan hasil uji t yang signifikan\n",
    "significant_results = []\n",
    "\n",
    "# Lakukan t-test untuk tiap pasangan\n",
    "for combo in combinations_list:\n",
    "    group1 = df_comp[df_comp['Gabungan'] == combo[0]]['Index']\n",
    "    group2 = df_comp[df_comp['Gabungan'] == combo[1]]['Index']\n",
    "    stat, pval = ttest_ind(group1, group2, equal_var=False)  # Gunakan Welch's t-test\n",
    "    if pval < 0.05:\n",
    "        significant_results.append({\n",
    "            'Kombinasi': f\"{combo[0]} vs {combo[1]}\",\n",
    "            'p-value': pval,\n",
    "            'Rata-rata 1': group1.mean(),\n",
    "            'Rata-rata 2': group2.mean()\n",
    "        })\n",
    "\n",
    "# Tampilkan hasil signifikan\n",
    "pd.DataFrame(significant_results)"
   ]
  }
 ],
 "metadata": {
  "kernelspec": {
   "display_name": "Python 3",
   "language": "python",
   "name": "python3"
  },
  "language_info": {
   "codemirror_mode": {
    "name": "ipython",
    "version": 3
   },
   "file_extension": ".py",
   "mimetype": "text/x-python",
   "name": "python",
   "nbconvert_exporter": "python",
   "pygments_lexer": "ipython3",
   "version": "3.11.9"
  }
 },
 "nbformat": 4,
 "nbformat_minor": 5
}
