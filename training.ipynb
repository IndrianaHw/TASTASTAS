{
 "cells": [
  {
   "cell_type": "code",
   "execution_count": null,
   "id": "7b7ee072",
   "metadata": {},
   "outputs": [],
   "source": [
    "import torch\n",
    "import torch.nn as nn\n",
    "import torch.nn.functional as F\n",
    "import numpy as np\n",
    "from utils import *\n",
    "from Network import *\n",
    "import math, copy, time"
   ]
  },
  {
   "cell_type": "code",
   "execution_count": null,
   "id": "5aeba123",
   "metadata": {},
   "outputs": [],
   "source": [
    "from test_validation import *\n",
    "from torch.autograd import Variable"
   ]
  },
  {
   "cell_type": "code",
   "execution_count": null,
   "id": "31937b3a",
   "metadata": {},
   "outputs": [],
   "source": [
    "device = torch.device('cuda' if torch.cuda.is_available() else 'cpu')\n",
    "device='cpu'\n",
    "enc_seq_len = 10\n",
    "dec_seq_len = 4\n",
    "output_sequence_length = 4"
   ]
  },
  {
   "cell_type": "code",
   "execution_count": null,
   "id": "3a1a89a2",
   "metadata": {},
   "outputs": [],
   "source": [
    "d_model = 512\n",
    "d_ff=2048\n",
    "lr = 0.005\n",
    "epochs = 5\n",
    "dropout=0.2\n",
    "n_heads = 8"
   ]
  },
  {
   "cell_type": "code",
   "execution_count": null,
   "id": "22833ba2",
   "metadata": {
    "lines_to_next_cell": 2
   },
   "outputs": [],
   "source": [
    "N=2\n",
    "h=8\n",
    "batch_size = 64\n",
    "step_no=1\n",
    "dimension=1"
   ]
  },
  {
   "cell_type": "code",
   "execution_count": null,
   "id": "b9369c6e",
   "metadata": {},
   "outputs": [],
   "source": [
    "print('number of layer',N,'d_model',d_model,'d_ff',d_ff,'n_heads',h,'dropout',dropout)"
   ]
  },
  {
   "cell_type": "code",
   "execution_count": null,
   "id": "815026a7",
   "metadata": {},
   "outputs": [],
   "source": [
    "train_dec_input=torch.load(\"train_dec_input.pt\").unsqueeze(2)\n",
    "train_encoder_input=torch.load('train_encoder_input.pt').unsqueeze(2)\n",
    "train_output=torch.load('train_output.pt').unsqueeze(2)"
   ]
  },
  {
   "cell_type": "code",
   "execution_count": null,
   "id": "9f5934fb",
   "metadata": {},
   "outputs": [],
   "source": [
    "test_encoder_input=torch.load('test_encoder_input.pt').unsqueeze(2)\n",
    "test_output=torch.load('test_output.pt').unsqueeze(2)"
   ]
  },
  {
   "cell_type": "code",
   "execution_count": null,
   "id": "3fea4130",
   "metadata": {},
   "outputs": [],
   "source": [
    "validation_encoder_input=torch.load('validation_encoder_input.pt').unsqueeze(2)\n",
    "validation_output=torch.load('validation_output.pt').unsqueeze(2)\n",
    "validation_dec_input=torch.load('validation_dec_input.pt').unsqueeze(2)"
   ]
  },
  {
   "cell_type": "code",
   "execution_count": null,
   "id": "f9013520",
   "metadata": {
    "lines_to_next_cell": 1
   },
   "outputs": [],
   "source": [
    "T=make_model(enc_seq_len,dec_seq_len,output_sequence_length,N,d_model,d_ff,h,dropout)\n",
    "T=T.to(device)\n",
    "optimizer = torch.optim.Adam(T.parameters(),betas=(0.9, 0.98), eps=1e-09, lr=lr)"
   ]
  },
  {
   "cell_type": "code",
   "execution_count": null,
   "id": "bb3a6414",
   "metadata": {},
   "outputs": [],
   "source": [
    "def adjust_optim(optimizer=optimizer, step_no=step_no, dim_val=d_model):\n",
    "    learning_rate = (dim_val ** (0.5)) * min(step_no ** (0.5), step_no * 5000 ** (-1.5))\n",
    "    print('learning_rate updated to:',learning_rate)\n",
    "    optimizer.param_groups[0]['lr'] = learning_rate"
   ]
  },
  {
   "cell_type": "code",
   "execution_count": null,
   "id": "56b83258",
   "metadata": {},
   "outputs": [],
   "source": [
    "best_loss=1000000\n",
    "best_loss=1000000\n",
    "round_batch=train_encoder_input.size(0)//batch_size\n",
    "val_batch=Batch(validation_encoder_input,validation_dec_input)\n",
    "for each in range(epochs):\n",
    "    s=0\n",
    "    e=batch_size\n",
    "    T.train()\n",
    "    running_loss = 0\n",
    "    adjust_optim()\n",
    "    step_no += 1\n",
    "\n",
    "    for b in range(round_batch+1):\n",
    "        optimizer.zero_grad()\n",
    "        X_enc=train_encoder_input[s:e]\n",
    "        X_dec=train_dec_input[s:e]\n",
    "        X_enc=X_enc.to(device)\n",
    "        X_dec = X_dec.to(device)\n",
    "        Y=train_output[s:e]\n",
    "        Y = Y.to(device)\n",
    "\n",
    "        batch=Batch(X_enc,X_dec)\n",
    "        s=e\n",
    "        e=e+batch_size\n",
    "        i=0\n",
    "        #Forward pass and calculate loss\n",
    "        net_out = T(batch.src,batch.trg,batch.src_mask,batch.trg_mask)\n",
    "        net_out=net_out.to(device)\n",
    "        loss_func=nn.MSELoss()\n",
    "        #print(net_out.shape)\n",
    "        loss = torch.sqrt(loss_func(net_out ,Y))\n",
    "        loss.backward()\n",
    "        running_loss += (loss**2)*batch.src.size(0)\n",
    "        #print(loss)\n",
    "        #backwards pass\n",
    "        optimizer.step()\n",
    "    T.eval()\n",
    "    model_out = T(val_batch.src,val_batch.trg,val_batch.src_mask,val_batch.trg_mask)\n",
    "    model_out = model_out.to(device)\n",
    "\n",
    "    val_loss=RMSE_PC(model_out,validation_output)\n",
    "    if best_loss>val_loss.data:\n",
    "        torch.save(T, 'best_model.pt')\n",
    "        best_loss=val_loss.data\n",
    "        #test_encoder_input = torch.load('test_encoder_input.pt')\n",
    "        #test_output = torch.load('test_output.pt')\n",
    "        #RMSE_PC(test_encoder_input,t,test_output)\n",
    "        state = {'epoch': each + 1, 'state_dict': T.state_dict(),\n",
    "                 'optimizer': optimizer.state_dict(), 'step': step_no}\n",
    "        torch.save(state,'checkpoint.pt')\n",
    "    print('Epoch:',each+1,' Training_RMSE_Loss:',torch.sqrt(running_loss/(train_encoder_input.size(0))))\n",
    "    print('Epoch:',each+1,' Validation_RMSE_Loss:',val_loss)"
   ]
  },
  {
   "cell_type": "code",
   "execution_count": null,
   "id": "3f7d8a58",
   "metadata": {},
   "outputs": [],
   "source": []
  },
  {
   "cell_type": "code",
   "execution_count": null,
   "id": "f2d5a2a9",
   "metadata": {},
   "outputs": [],
   "source": []
  }
 ],
 "metadata": {
  "jupytext": {
   "cell_metadata_filter": "-all",
   "main_language": "python",
   "notebook_metadata_filter": "-all"
  }
 },
 "nbformat": 4,
 "nbformat_minor": 5
}
