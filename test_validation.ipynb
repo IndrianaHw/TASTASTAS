{
 "cells": [
  {
   "cell_type": "code",
   "execution_count": null,
   "id": "6ed088ce",
   "metadata": {},
   "outputs": [],
   "source": [
    "import torch\n",
    "import torch.nn as nn\n",
    "import torch.nn.functional as F\n",
    "import numpy as np\n",
    "from utils import *\n",
    "from Network import *"
   ]
  },
  {
   "cell_type": "code",
   "execution_count": null,
   "id": "a54c359e",
   "metadata": {},
   "outputs": [],
   "source": []
  },
  {
   "cell_type": "code",
   "execution_count": null,
   "id": "5c7dce5e",
   "metadata": {},
   "outputs": [],
   "source": []
  },
  {
   "cell_type": "code",
   "execution_count": null,
   "id": "3d1d3e07",
   "metadata": {
    "lines_to_next_cell": 1
   },
   "outputs": [],
   "source": [
    "def RMSE_PC(model_out,test_output):\n",
    "    loss_func = nn.MSELoss()\n",
    "    mse=loss_func(model_out,test_output)\n",
    "    RMSE_loss=torch.sqrt(mse)\n",
    "    return RMSE_loss\n",
    "\"\"\"    x = model_out\n",
    "    y = test_output\n",
    "\n",
    "    vx = x - torch.mean(x)\n",
    "    vy = y - torch.mean(y)\n",
    "    cost = torch.sum(vx * vy) / (torch.sqrt(torch.sum(vx ** 2)) * torch.sqrt(torch.sum(vy ** 2)))\n",
    "\n",
    "    print('Pearson Correlation:',cost)\n",
    "\"\"\""
   ]
  },
  {
   "cell_type": "code",
   "execution_count": null,
   "id": "5484ed85",
   "metadata": {},
   "outputs": [],
   "source": [
    "def greedy_decode(model, src, src_mask, max_len):\n",
    "    memory = model.encode(src, src_mask)\n",
    "    start=src[:,-1,:]\n",
    "    ys = start.unsqueeze(2)\n",
    "    for i in range(max_len-1):\n",
    "        out = model.decode(memory, src_mask,\n",
    "                           Variable(ys),\n",
    "                           Variable(subsequent_mask(ys.size(1))\n",
    "                                    .type_as(src.data)))\n",
    "        out=out[:,-1,:].unsqueeze(2)\n",
    "        ys = torch.cat([ys,out], dim=1)\n",
    "    out = model.decode(memory, src_mask,\n",
    "                       Variable(ys),\n",
    "                       Variable(subsequent_mask(ys.size(1))\n",
    "                                .type_as(src.data)))\n",
    "\n",
    "    return out"
   ]
  },
  {
   "cell_type": "markdown",
   "id": "d0630d16",
   "metadata": {
    "lines_to_next_cell": 2
   },
   "source": [
    "RMSE_PC(total_out[:,-1],test_output)\n",
    "print(total_out[:,-1])\n",
    "torch.save(total_out[:,-1], 'model_output1.pt')"
   ]
  }
 ],
 "metadata": {
  "jupytext": {
   "cell_metadata_filter": "-all",
   "main_language": "python",
   "notebook_metadata_filter": "-all"
  }
 },
 "nbformat": 4,
 "nbformat_minor": 5
}
