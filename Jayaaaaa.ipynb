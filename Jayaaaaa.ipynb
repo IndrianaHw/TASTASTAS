{
 "cells": [
  {
   "cell_type": "markdown",
   "metadata": {},
   "source": [
    "## Pemodelan prediksi Cool and Warm by Season menggunakan RNN"
   ]
  },
  {
   "cell_type": "code",
   "execution_count": 1,
   "metadata": {},
   "outputs": [],
   "source": [
    "# Mengimport Pustaka yang dibutuhkan\n",
    "import pandas as pd\n",
    "import numpy as np\n",
    "import matplotlib.pyplot as plt\n",
    "import seaborn as sns\n",
    "import math\n",
    "from sklearn.preprocessing import MinMaxScaler\n",
    "from sklearn.model_selection import train_test_split\n",
    "from sklearn.metrics import r2_score\n",
    "import itertools\n",
    "import warnings\n",
    "warnings.filterwarnings('ignore')"
   ]
  },
  {
   "cell_type": "markdown",
   "metadata": {},
   "source": [
    "### Data Loading"
   ]
  },
  {
   "cell_type": "code",
   "execution_count": 2,
   "metadata": {},
   "outputs": [],
   "source": [
    "df=pd.read_excel('Data c&w.xlsx')"
   ]
  },
  {
   "cell_type": "code",
   "execution_count": 3,
   "metadata": {},
   "outputs": [
    {
     "data": {
      "text/html": [
       "<div>\n",
       "<style scoped>\n",
       "    .dataframe tbody tr th:only-of-type {\n",
       "        vertical-align: middle;\n",
       "    }\n",
       "\n",
       "    .dataframe tbody tr th {\n",
       "        vertical-align: top;\n",
       "    }\n",
       "\n",
       "    .dataframe thead th {\n",
       "        text-align: right;\n",
       "    }\n",
       "</style>\n",
       "<table border=\"1\" class=\"dataframe\">\n",
       "  <thead>\n",
       "    <tr style=\"text-align: right;\">\n",
       "      <th></th>\n",
       "      <th>Year</th>\n",
       "      <th>DJF</th>\n",
       "      <th>JFM</th>\n",
       "      <th>FMA</th>\n",
       "      <th>MAM</th>\n",
       "      <th>AMJ</th>\n",
       "      <th>MJJ</th>\n",
       "      <th>JJA</th>\n",
       "      <th>JAS</th>\n",
       "      <th>ASO</th>\n",
       "      <th>SON</th>\n",
       "      <th>OND</th>\n",
       "      <th>NDJ</th>\n",
       "    </tr>\n",
       "  </thead>\n",
       "  <tbody>\n",
       "    <tr>\n",
       "      <th>70</th>\n",
       "      <td>2020</td>\n",
       "      <td>0.5</td>\n",
       "      <td>0.5</td>\n",
       "      <td>0.4</td>\n",
       "      <td>0.2</td>\n",
       "      <td>-0.1</td>\n",
       "      <td>-0.3</td>\n",
       "      <td>-0.4</td>\n",
       "      <td>-0.6</td>\n",
       "      <td>-0.9</td>\n",
       "      <td>-1.2</td>\n",
       "      <td>-1.3</td>\n",
       "      <td>-1.2</td>\n",
       "    </tr>\n",
       "    <tr>\n",
       "      <th>71</th>\n",
       "      <td>2021</td>\n",
       "      <td>-1.0</td>\n",
       "      <td>-0.9</td>\n",
       "      <td>-0.8</td>\n",
       "      <td>-0.7</td>\n",
       "      <td>-0.5</td>\n",
       "      <td>-0.4</td>\n",
       "      <td>-0.4</td>\n",
       "      <td>-0.5</td>\n",
       "      <td>-0.7</td>\n",
       "      <td>-0.8</td>\n",
       "      <td>-1.0</td>\n",
       "      <td>-1.0</td>\n",
       "    </tr>\n",
       "    <tr>\n",
       "      <th>72</th>\n",
       "      <td>2022</td>\n",
       "      <td>-1.0</td>\n",
       "      <td>-0.9</td>\n",
       "      <td>-1.0</td>\n",
       "      <td>-1.1</td>\n",
       "      <td>-1.0</td>\n",
       "      <td>-0.9</td>\n",
       "      <td>-0.8</td>\n",
       "      <td>-0.9</td>\n",
       "      <td>-1.0</td>\n",
       "      <td>-1.0</td>\n",
       "      <td>-0.9</td>\n",
       "      <td>-0.8</td>\n",
       "    </tr>\n",
       "    <tr>\n",
       "      <th>73</th>\n",
       "      <td>2023</td>\n",
       "      <td>-0.7</td>\n",
       "      <td>-0.4</td>\n",
       "      <td>-0.1</td>\n",
       "      <td>0.2</td>\n",
       "      <td>0.5</td>\n",
       "      <td>0.8</td>\n",
       "      <td>1.1</td>\n",
       "      <td>1.3</td>\n",
       "      <td>1.6</td>\n",
       "      <td>1.8</td>\n",
       "      <td>1.9</td>\n",
       "      <td>2.0</td>\n",
       "    </tr>\n",
       "    <tr>\n",
       "      <th>74</th>\n",
       "      <td>2024</td>\n",
       "      <td>1.8</td>\n",
       "      <td>1.5</td>\n",
       "      <td>1.1</td>\n",
       "      <td>0.7</td>\n",
       "      <td>0.4</td>\n",
       "      <td>0.2</td>\n",
       "      <td>0.0</td>\n",
       "      <td>-0.1</td>\n",
       "      <td>NaN</td>\n",
       "      <td>NaN</td>\n",
       "      <td>NaN</td>\n",
       "      <td>NaN</td>\n",
       "    </tr>\n",
       "  </tbody>\n",
       "</table>\n",
       "</div>"
      ],
      "text/plain": [
       "    Year  DJF  JFM  FMA  MAM  AMJ  MJJ  JJA  JAS  ASO  SON  OND  NDJ\n",
       "70  2020  0.5  0.5  0.4  0.2 -0.1 -0.3 -0.4 -0.6 -0.9 -1.2 -1.3 -1.2\n",
       "71  2021 -1.0 -0.9 -0.8 -0.7 -0.5 -0.4 -0.4 -0.5 -0.7 -0.8 -1.0 -1.0\n",
       "72  2022 -1.0 -0.9 -1.0 -1.1 -1.0 -0.9 -0.8 -0.9 -1.0 -1.0 -0.9 -0.8\n",
       "73  2023 -0.7 -0.4 -0.1  0.2  0.5  0.8  1.1  1.3  1.6  1.8  1.9  2.0\n",
       "74  2024  1.8  1.5  1.1  0.7  0.4  0.2  0.0 -0.1  NaN  NaN  NaN  NaN"
      ]
     },
     "execution_count": 3,
     "metadata": {},
     "output_type": "execute_result"
    }
   ],
   "source": [
    "df.tail()"
   ]
  },
  {
   "cell_type": "markdown",
   "metadata": {},
   "source": [
    "### Data Cleaning"
   ]
  },
  {
   "cell_type": "code",
   "execution_count": 4,
   "metadata": {},
   "outputs": [],
   "source": [
    "df.dropna(inplace=True)"
   ]
  },
  {
   "cell_type": "code",
   "execution_count": 5,
   "metadata": {},
   "outputs": [
    {
     "data": {
      "text/html": [
       "<div>\n",
       "<style scoped>\n",
       "    .dataframe tbody tr th:only-of-type {\n",
       "        vertical-align: middle;\n",
       "    }\n",
       "\n",
       "    .dataframe tbody tr th {\n",
       "        vertical-align: top;\n",
       "    }\n",
       "\n",
       "    .dataframe thead th {\n",
       "        text-align: right;\n",
       "    }\n",
       "</style>\n",
       "<table border=\"1\" class=\"dataframe\">\n",
       "  <thead>\n",
       "    <tr style=\"text-align: right;\">\n",
       "      <th></th>\n",
       "      <th>Year</th>\n",
       "      <th>DJF</th>\n",
       "      <th>JFM</th>\n",
       "      <th>FMA</th>\n",
       "      <th>MAM</th>\n",
       "      <th>AMJ</th>\n",
       "      <th>MJJ</th>\n",
       "      <th>JJA</th>\n",
       "      <th>JAS</th>\n",
       "      <th>ASO</th>\n",
       "      <th>SON</th>\n",
       "      <th>OND</th>\n",
       "      <th>NDJ</th>\n",
       "    </tr>\n",
       "  </thead>\n",
       "  <tbody>\n",
       "    <tr>\n",
       "      <th>69</th>\n",
       "      <td>2019</td>\n",
       "      <td>0.7</td>\n",
       "      <td>0.7</td>\n",
       "      <td>0.7</td>\n",
       "      <td>0.7</td>\n",
       "      <td>0.5</td>\n",
       "      <td>0.5</td>\n",
       "      <td>0.3</td>\n",
       "      <td>0.1</td>\n",
       "      <td>0.2</td>\n",
       "      <td>0.3</td>\n",
       "      <td>0.5</td>\n",
       "      <td>0.5</td>\n",
       "    </tr>\n",
       "    <tr>\n",
       "      <th>70</th>\n",
       "      <td>2020</td>\n",
       "      <td>0.5</td>\n",
       "      <td>0.5</td>\n",
       "      <td>0.4</td>\n",
       "      <td>0.2</td>\n",
       "      <td>-0.1</td>\n",
       "      <td>-0.3</td>\n",
       "      <td>-0.4</td>\n",
       "      <td>-0.6</td>\n",
       "      <td>-0.9</td>\n",
       "      <td>-1.2</td>\n",
       "      <td>-1.3</td>\n",
       "      <td>-1.2</td>\n",
       "    </tr>\n",
       "    <tr>\n",
       "      <th>71</th>\n",
       "      <td>2021</td>\n",
       "      <td>-1.0</td>\n",
       "      <td>-0.9</td>\n",
       "      <td>-0.8</td>\n",
       "      <td>-0.7</td>\n",
       "      <td>-0.5</td>\n",
       "      <td>-0.4</td>\n",
       "      <td>-0.4</td>\n",
       "      <td>-0.5</td>\n",
       "      <td>-0.7</td>\n",
       "      <td>-0.8</td>\n",
       "      <td>-1.0</td>\n",
       "      <td>-1.0</td>\n",
       "    </tr>\n",
       "    <tr>\n",
       "      <th>72</th>\n",
       "      <td>2022</td>\n",
       "      <td>-1.0</td>\n",
       "      <td>-0.9</td>\n",
       "      <td>-1.0</td>\n",
       "      <td>-1.1</td>\n",
       "      <td>-1.0</td>\n",
       "      <td>-0.9</td>\n",
       "      <td>-0.8</td>\n",
       "      <td>-0.9</td>\n",
       "      <td>-1.0</td>\n",
       "      <td>-1.0</td>\n",
       "      <td>-0.9</td>\n",
       "      <td>-0.8</td>\n",
       "    </tr>\n",
       "    <tr>\n",
       "      <th>73</th>\n",
       "      <td>2023</td>\n",
       "      <td>-0.7</td>\n",
       "      <td>-0.4</td>\n",
       "      <td>-0.1</td>\n",
       "      <td>0.2</td>\n",
       "      <td>0.5</td>\n",
       "      <td>0.8</td>\n",
       "      <td>1.1</td>\n",
       "      <td>1.3</td>\n",
       "      <td>1.6</td>\n",
       "      <td>1.8</td>\n",
       "      <td>1.9</td>\n",
       "      <td>2.0</td>\n",
       "    </tr>\n",
       "  </tbody>\n",
       "</table>\n",
       "</div>"
      ],
      "text/plain": [
       "    Year  DJF  JFM  FMA  MAM  AMJ  MJJ  JJA  JAS  ASO  SON  OND  NDJ\n",
       "69  2019  0.7  0.7  0.7  0.7  0.5  0.5  0.3  0.1  0.2  0.3  0.5  0.5\n",
       "70  2020  0.5  0.5  0.4  0.2 -0.1 -0.3 -0.4 -0.6 -0.9 -1.2 -1.3 -1.2\n",
       "71  2021 -1.0 -0.9 -0.8 -0.7 -0.5 -0.4 -0.4 -0.5 -0.7 -0.8 -1.0 -1.0\n",
       "72  2022 -1.0 -0.9 -1.0 -1.1 -1.0 -0.9 -0.8 -0.9 -1.0 -1.0 -0.9 -0.8\n",
       "73  2023 -0.7 -0.4 -0.1  0.2  0.5  0.8  1.1  1.3  1.6  1.8  1.9  2.0"
      ]
     },
     "execution_count": 5,
     "metadata": {},
     "output_type": "execute_result"
    }
   ],
   "source": [
    "df.tail()"
   ]
  },
  {
   "cell_type": "code",
   "execution_count": 6,
   "metadata": {},
   "outputs": [],
   "source": [
    "df.set_index('Year', inplace = True)"
   ]
  },
  {
   "cell_type": "code",
   "execution_count": 7,
   "metadata": {},
   "outputs": [
    {
     "data": {
      "text/plain": [
       "DatetimeIndex(['1950-01-01', '1950-02-01', '1950-03-01', '1950-04-01',\n",
       "               '1950-05-01', '1950-06-01', '1950-07-01', '1950-08-01',\n",
       "               '1950-09-01', '1950-10-01',\n",
       "               ...\n",
       "               '1961-03-01', '1961-04-01', '1961-05-01', '1961-06-01',\n",
       "               '1961-07-01', '1961-08-01', '1961-09-01', '1961-10-01',\n",
       "               '1961-11-01', '1961-12-01'],\n",
       "              dtype='datetime64[ns]', length=144, freq='MS')"
      ]
     },
     "execution_count": 7,
     "metadata": {},
     "output_type": "execute_result"
    }
   ],
   "source": [
    "dates = pd.date_range(start = '1950-01', freq = 'MS', periods = len(df.columns)*12)\n",
    "dates"
   ]
  },
  {
   "cell_type": "code",
   "execution_count": 9,
   "metadata": {},
   "outputs": [
    {
     "data": {
      "text/html": [
       "<div>\n",
       "<style scoped>\n",
       "    .dataframe tbody tr th:only-of-type {\n",
       "        vertical-align: middle;\n",
       "    }\n",
       "\n",
       "    .dataframe tbody tr th {\n",
       "        vertical-align: top;\n",
       "    }\n",
       "\n",
       "    .dataframe thead th {\n",
       "        text-align: right;\n",
       "    }\n",
       "</style>\n",
       "<table border=\"1\" class=\"dataframe\">\n",
       "  <thead>\n",
       "    <tr style=\"text-align: right;\">\n",
       "      <th></th>\n",
       "      <th>DJF</th>\n",
       "      <th>JFM</th>\n",
       "      <th>FMA</th>\n",
       "      <th>MAM</th>\n",
       "      <th>AMJ</th>\n",
       "      <th>MJJ</th>\n",
       "      <th>JJA</th>\n",
       "      <th>JAS</th>\n",
       "      <th>ASO</th>\n",
       "      <th>SON</th>\n",
       "      <th>OND</th>\n",
       "      <th>NDJ</th>\n",
       "    </tr>\n",
       "    <tr>\n",
       "      <th>Year</th>\n",
       "      <th></th>\n",
       "      <th></th>\n",
       "      <th></th>\n",
       "      <th></th>\n",
       "      <th></th>\n",
       "      <th></th>\n",
       "      <th></th>\n",
       "      <th></th>\n",
       "      <th></th>\n",
       "      <th></th>\n",
       "      <th></th>\n",
       "      <th></th>\n",
       "    </tr>\n",
       "  </thead>\n",
       "  <tbody>\n",
       "    <tr>\n",
       "      <th>1950</th>\n",
       "      <td>-1.5</td>\n",
       "      <td>-1.3</td>\n",
       "      <td>-1.2</td>\n",
       "      <td>-1.2</td>\n",
       "      <td>-1.1</td>\n",
       "      <td>-0.9</td>\n",
       "      <td>-0.5</td>\n",
       "      <td>-0.4</td>\n",
       "      <td>-0.4</td>\n",
       "      <td>-0.4</td>\n",
       "      <td>-0.6</td>\n",
       "      <td>-0.8</td>\n",
       "    </tr>\n",
       "    <tr>\n",
       "      <th>1951</th>\n",
       "      <td>-0.8</td>\n",
       "      <td>-0.5</td>\n",
       "      <td>-0.2</td>\n",
       "      <td>0.2</td>\n",
       "      <td>0.4</td>\n",
       "      <td>0.6</td>\n",
       "      <td>0.7</td>\n",
       "      <td>0.9</td>\n",
       "      <td>1.0</td>\n",
       "      <td>1.2</td>\n",
       "      <td>1.0</td>\n",
       "      <td>0.8</td>\n",
       "    </tr>\n",
       "    <tr>\n",
       "      <th>1952</th>\n",
       "      <td>0.5</td>\n",
       "      <td>0.4</td>\n",
       "      <td>0.3</td>\n",
       "      <td>0.3</td>\n",
       "      <td>0.2</td>\n",
       "      <td>0.0</td>\n",
       "      <td>-0.1</td>\n",
       "      <td>0.0</td>\n",
       "      <td>0.2</td>\n",
       "      <td>0.1</td>\n",
       "      <td>0.0</td>\n",
       "      <td>0.1</td>\n",
       "    </tr>\n",
       "    <tr>\n",
       "      <th>1953</th>\n",
       "      <td>0.4</td>\n",
       "      <td>0.6</td>\n",
       "      <td>0.6</td>\n",
       "      <td>0.7</td>\n",
       "      <td>0.8</td>\n",
       "      <td>0.8</td>\n",
       "      <td>0.7</td>\n",
       "      <td>0.7</td>\n",
       "      <td>0.8</td>\n",
       "      <td>0.8</td>\n",
       "      <td>0.8</td>\n",
       "      <td>0.8</td>\n",
       "    </tr>\n",
       "    <tr>\n",
       "      <th>1954</th>\n",
       "      <td>0.8</td>\n",
       "      <td>0.5</td>\n",
       "      <td>0.0</td>\n",
       "      <td>-0.4</td>\n",
       "      <td>-0.5</td>\n",
       "      <td>-0.5</td>\n",
       "      <td>-0.6</td>\n",
       "      <td>-0.8</td>\n",
       "      <td>-0.9</td>\n",
       "      <td>-0.8</td>\n",
       "      <td>-0.7</td>\n",
       "      <td>-0.7</td>\n",
       "    </tr>\n",
       "  </tbody>\n",
       "</table>\n",
       "</div>"
      ],
      "text/plain": [
       "      DJF  JFM  FMA  MAM  AMJ  MJJ  JJA  JAS  ASO  SON  OND  NDJ\n",
       "Year                                                            \n",
       "1950 -1.5 -1.3 -1.2 -1.2 -1.1 -0.9 -0.5 -0.4 -0.4 -0.4 -0.6 -0.8\n",
       "1951 -0.8 -0.5 -0.2  0.2  0.4  0.6  0.7  0.9  1.0  1.2  1.0  0.8\n",
       "1952  0.5  0.4  0.3  0.3  0.2  0.0 -0.1  0.0  0.2  0.1  0.0  0.1\n",
       "1953  0.4  0.6  0.6  0.7  0.8  0.8  0.7  0.7  0.8  0.8  0.8  0.8\n",
       "1954  0.8  0.5  0.0 -0.4 -0.5 -0.5 -0.6 -0.8 -0.9 -0.8 -0.7 -0.7"
      ]
     },
     "execution_count": 9,
     "metadata": {},
     "output_type": "execute_result"
    }
   ],
   "source": [
    "df.head()"
   ]
  },
  {
   "cell_type": "code",
   "execution_count": 10,
   "metadata": {},
   "outputs": [
    {
     "data": {
      "text/plain": [
       "(74, 12)"
      ]
     },
     "execution_count": 10,
     "metadata": {},
     "output_type": "execute_result"
    }
   ],
   "source": [
    "scaler = MinMaxScaler(feature_range = (0,1))\n",
    "scaled_data = scaler.fit_transform(df)\n",
    "scaled_data.shape"
   ]
  },
  {
   "cell_type": "code",
   "execution_count": 11,
   "metadata": {},
   "outputs": [],
   "source": [
    "def create_dataset(data, time_steps=1):\n",
    "    X, y = [], []\n",
    "    for i in range(len(df) - time_steps):\n",
    "        X.append(data[i:(i + time_steps), :])\n",
    "        y.append(data[i + time_steps, :])  # Target adalah nilai di langkah berikutnya\n",
    "    return np.array(X), np.array(y)"
   ]
  },
  {
   "cell_type": "code",
   "execution_count": 12,
   "metadata": {},
   "outputs": [],
   "source": [
    "time_steps = 1\n",
    "X, y = create_dataset(scaled_data, time_steps)"
   ]
  },
  {
   "cell_type": "code",
   "execution_count": 13,
   "metadata": {},
   "outputs": [],
   "source": [
    "train_size = int(len(X) * 0.75)\n",
    "X_train, X_test = X[:train_size], X[train_size:]\n",
    "y_train, y_test = y[:train_size], y[train_size:]"
   ]
  },
  {
   "cell_type": "code",
   "execution_count": 8,
   "metadata": {},
   "outputs": [
    {
     "name": "stdout",
     "output_type": "stream",
     "text": [
      "WARNING:tensorflow:From C:\\Users\\ACER\\AppData\\Roaming\\Python\\Python311\\site-packages\\keras\\src\\losses.py:2976: The name tf.losses.sparse_softmax_cross_entropy is deprecated. Please use tf.compat.v1.losses.sparse_softmax_cross_entropy instead.\n",
      "\n"
     ]
    }
   ],
   "source": [
    "import keras\n",
    "from keras.models import Sequential\n",
    "from keras.layers import Dense, SimpleRNN, Dropout\n",
    "from attention import Attention\n",
    "\n",
    "np.random.seed(100)"
   ]
  },
  {
   "cell_type": "markdown",
   "metadata": {},
   "source": [
    "### Pendefinisian Model"
   ]
  },
  {
   "cell_type": "code",
   "execution_count": 14,
   "metadata": {},
   "outputs": [
    {
     "name": "stdout",
     "output_type": "stream",
     "text": [
      "WARNING:tensorflow:From C:\\Users\\ACER\\AppData\\Roaming\\Python\\Python311\\site-packages\\keras\\src\\backend.py:873: The name tf.get_default_graph is deprecated. Please use tf.compat.v1.get_default_graph instead.\n",
      "\n"
     ]
    }
   ],
   "source": [
    "model = Sequential()\n",
    "model.add(SimpleRNN(50, activation='relu', input_shape=(X_train.shape[1], X_train.shape[2])))\n",
    "model.add(Dense(y_train.shape[1]))"
   ]
  },
  {
   "cell_type": "code",
   "execution_count": 15,
   "metadata": {},
   "outputs": [
    {
     "name": "stdout",
     "output_type": "stream",
     "text": [
      "WARNING:tensorflow:From C:\\Users\\ACER\\AppData\\Roaming\\Python\\Python311\\site-packages\\keras\\src\\optimizers\\__init__.py:309: The name tf.train.Optimizer is deprecated. Please use tf.compat.v1.train.Optimizer instead.\n",
      "\n"
     ]
    }
   ],
   "source": [
    "model.compile(optimizer='adam', loss='mean_squared_error')"
   ]
  },
  {
   "cell_type": "code",
   "execution_count": 16,
   "metadata": {},
   "outputs": [
    {
     "name": "stdout",
     "output_type": "stream",
     "text": [
      "WARNING:tensorflow:From C:\\Users\\ACER\\AppData\\Roaming\\Python\\Python311\\site-packages\\keras\\src\\utils\\tf_utils.py:492: The name tf.ragged.RaggedTensorValue is deprecated. Please use tf.compat.v1.ragged.RaggedTensorValue instead.\n",
      "\n",
      "Train Score: 0.4136\n",
      "Test Score: 0.3512\n"
     ]
    }
   ],
   "source": [
    "train_score = model.evaluate(X_train, y_train, verbose=0)\n",
    "test_score = model.evaluate(X_test, y_test, verbose=0)\n",
    "\n",
    "print('Train Score: %.4f' % train_score)\n",
    "print('Test Score: %.4f' % test_score)"
   ]
  },
  {
   "cell_type": "code",
   "execution_count": 17,
   "metadata": {},
   "outputs": [
    {
     "name": "stdout",
     "output_type": "stream",
     "text": [
      "1/1 [==============================] - 0s 217ms/step\n"
     ]
    }
   ],
   "source": [
    "y_pred=model.predict(X_test)"
   ]
  },
  {
   "cell_type": "code",
   "execution_count": 18,
   "metadata": {},
   "outputs": [
    {
     "name": "stdout",
     "output_type": "stream",
     "text": [
      "Prediksi: [[-1.8264347  -2.70654    -1.1981453  -0.19689375 -0.75412    -2.7008483\n",
      "  -1.4831238  -1.6030182  -2.2533722  -1.7567257  -4.6911736  -0.8339442 ]\n",
      " [-1.7349746  -3.0131881  -1.2002573  -0.32266882 -0.82144123 -2.8282013\n",
      "  -0.76755357 -1.590911   -2.3020673  -1.5397929  -4.9640846  -1.3857635 ]\n",
      " [-1.9605622  -2.1533608  -1.2228131  -0.64517987 -0.8254246  -2.1953263\n",
      "  -1.7257786  -1.6385332  -2.2014444  -1.8041013  -3.1573055  -1.1188873 ]\n",
      " [-1.7728939  -2.6991074  -1.185471   -0.6228045  -0.92047584 -2.398439\n",
      "  -0.7773931  -1.3716569  -2.1456282  -1.4898937  -4.059308   -1.9639987 ]\n",
      " [-1.7772012  -1.9283042  -1.1188622  -0.9981558  -0.99648976 -1.6321237\n",
      "  -1.6620936  -1.6757562  -2.0662816  -1.7936511  -2.3577557  -1.3817757 ]\n",
      " [-2.0546925  -2.2384825  -1.2132956  -0.56092197 -0.7813915  -2.3124146\n",
      "  -1.793238   -1.7145455  -2.2789364  -1.8117745  -3.2735004  -0.9960774 ]\n",
      " [-1.3979931  -3.6009388  -1.2961994  -0.674069   -0.8118379  -2.972995\n",
      "  -0.3161469  -1.2030122  -2.2836764  -1.117052   -5.157811   -2.4422085 ]\n",
      " [-1.8261952  -1.8872916  -1.18285    -0.82860434 -0.9746053  -1.7365265\n",
      "  -1.4067436  -1.5035102  -1.8680006  -1.869134   -2.6243963  -1.5958894 ]\n",
      " [-1.8455544  -2.220385   -1.1205162  -0.5777835  -0.86924005 -2.106016\n",
      "  -1.6782116  -1.6848309  -2.1595333  -1.8657229  -3.3619647  -0.9979762 ]\n",
      " [-1.7453841  -2.2631605  -1.240566   -0.64028585 -0.8757879  -2.1391678\n",
      "  -1.3751118  -1.4052486  -1.9773016  -1.6596026  -3.6644626  -1.3956605 ]\n",
      " [-1.9285489  -2.3104858  -1.2562976  -0.4521988  -0.7806119  -2.3850288\n",
      "  -1.4561568  -1.5596607  -2.2391276  -1.9321775  -3.6357408  -1.4082001 ]\n",
      " [-1.904854   -2.9503539  -1.1583707   0.16979015 -0.58841795 -3.2044258\n",
      "  -1.9196733  -1.8775513  -2.6079879  -1.9671127  -5.3060718  -0.12014291]\n",
      " [-1.5559187  -3.8424666  -1.2530929  -0.13240989 -0.72193956 -3.663916\n",
      "  -0.25694627 -1.3161876  -2.5530324  -1.1599034  -6.369152   -1.9018183 ]\n",
      " [-1.8513023  -2.795449   -1.2261105  -0.3481837  -0.8962967  -2.559175\n",
      "  -0.9966397  -1.6130098  -2.1347415  -1.8956549  -4.352761   -1.3221958 ]\n",
      " [-2.0212038  -2.132241   -1.1839136  -0.7036018  -0.81825894 -2.12194\n",
      "  -1.7309005  -1.6759704  -2.228383   -1.7798059  -3.0184574  -1.1711886 ]\n",
      " [-1.7453038  -3.0197585  -1.24448    -0.13200763 -0.7456275  -3.0062687\n",
      "  -0.9879461  -1.5249918  -2.2708278  -1.7003169  -5.2830157  -1.3314193 ]\n",
      " [-1.6143385  -2.955049   -1.2944618  -0.4487129  -0.89503014 -2.6880364\n",
      "  -0.6796081  -1.4052883  -2.085538   -1.4906526  -4.6756983  -1.627878  ]\n",
      " [-1.8932754  -2.0436954  -1.2038507  -0.76201916 -0.9741691  -1.873683\n",
      "  -1.359402   -1.5049196  -1.941635   -1.864516   -2.8548894  -1.6059594 ]\n",
      " [-1.8657122  -1.8376582  -1.2763586  -1.022473   -1.0513017  -1.6467488\n",
      "  -1.4048586  -1.3028148  -1.7637719  -1.659449   -2.4354484  -1.7575653 ]]\n"
     ]
    }
   ],
   "source": [
    "y_pred_inv = scaler.inverse_transform(y_pred)\n",
    "print('Prediksi:', y_pred_inv)"
   ]
  },
  {
   "cell_type": "code",
   "execution_count": 19,
   "metadata": {},
   "outputs": [
    {
     "name": "stdout",
     "output_type": "stream",
     "text": [
      "R² Score: -5.56\n"
     ]
    }
   ],
   "source": [
    "r2 = r2_score(y_test, y_pred)\n",
    "\n",
    "print('R² Score: %.2f' % r2)"
   ]
  }
 ],
 "metadata": {
  "kernelspec": {
   "display_name": "base",
   "language": "python",
   "name": "python3"
  },
  "language_info": {
   "codemirror_mode": {
    "name": "ipython",
    "version": 3
   },
   "file_extension": ".py",
   "mimetype": "text/x-python",
   "name": "python",
   "nbconvert_exporter": "python",
   "pygments_lexer": "ipython3",
   "version": "3.11.4"
  }
 },
 "nbformat": 4,
 "nbformat_minor": 2
}
