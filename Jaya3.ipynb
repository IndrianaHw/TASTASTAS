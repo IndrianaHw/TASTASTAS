{
 "cells": [
  {
   "cell_type": "code",
   "execution_count": 1,
   "metadata": {},
   "outputs": [],
   "source": [
    "import numpy as np\n",
    "import pandas as pd\n",
    "import datetime as dt\n",
    "import matplotlib.pyplot as plt\n",
    "import seaborn as sns\n",
    "import math\n",
    "import tensorflow as tf\n",
    "from sklearn.preprocessing import MinMaxScaler\n",
    "from sklearn import metrics\n",
    "from sklearn.metrics import mean_squared_error, mean_absolute_error, r2_score\n",
    "from statsmodels.tsa.stattools import adfuller\n",
    "from keras.models import Sequential\n",
    "from keras.layers import SimpleRNN, Dense, Dropout\n",
    "from keras.optimizers import SGD\n",
    "import warnings\n",
    "warnings.filterwarnings('ignore')"
   ]
  },
  {
   "cell_type": "code",
   "execution_count": 2,
   "metadata": {},
   "outputs": [],
   "source": [
    "df = pd.read_excel('Data c&w.xlsx')"
   ]
  },
  {
   "cell_type": "code",
   "execution_count": 3,
   "metadata": {},
   "outputs": [
    {
     "data": {
      "text/html": [
       "<div>\n",
       "<style scoped>\n",
       "    .dataframe tbody tr th:only-of-type {\n",
       "        vertical-align: middle;\n",
       "    }\n",
       "\n",
       "    .dataframe tbody tr th {\n",
       "        vertical-align: top;\n",
       "    }\n",
       "\n",
       "    .dataframe thead th {\n",
       "        text-align: right;\n",
       "    }\n",
       "</style>\n",
       "<table border=\"1\" class=\"dataframe\">\n",
       "  <thead>\n",
       "    <tr style=\"text-align: right;\">\n",
       "      <th></th>\n",
       "      <th>Year</th>\n",
       "      <th>DJF</th>\n",
       "      <th>JFM</th>\n",
       "      <th>FMA</th>\n",
       "      <th>MAM</th>\n",
       "      <th>AMJ</th>\n",
       "      <th>MJJ</th>\n",
       "      <th>JJA</th>\n",
       "      <th>JAS</th>\n",
       "      <th>ASO</th>\n",
       "      <th>SON</th>\n",
       "      <th>OND</th>\n",
       "      <th>NDJ</th>\n",
       "    </tr>\n",
       "  </thead>\n",
       "  <tbody>\n",
       "    <tr>\n",
       "      <th>70</th>\n",
       "      <td>2020</td>\n",
       "      <td>0.5</td>\n",
       "      <td>0.5</td>\n",
       "      <td>0.4</td>\n",
       "      <td>0.2</td>\n",
       "      <td>-0.1</td>\n",
       "      <td>-0.3</td>\n",
       "      <td>-0.4</td>\n",
       "      <td>-0.6</td>\n",
       "      <td>-0.9</td>\n",
       "      <td>-1.2</td>\n",
       "      <td>-1.3</td>\n",
       "      <td>-1.2</td>\n",
       "    </tr>\n",
       "    <tr>\n",
       "      <th>71</th>\n",
       "      <td>2021</td>\n",
       "      <td>-1.0</td>\n",
       "      <td>-0.9</td>\n",
       "      <td>-0.8</td>\n",
       "      <td>-0.7</td>\n",
       "      <td>-0.5</td>\n",
       "      <td>-0.4</td>\n",
       "      <td>-0.4</td>\n",
       "      <td>-0.5</td>\n",
       "      <td>-0.7</td>\n",
       "      <td>-0.8</td>\n",
       "      <td>-1.0</td>\n",
       "      <td>-1.0</td>\n",
       "    </tr>\n",
       "    <tr>\n",
       "      <th>72</th>\n",
       "      <td>2022</td>\n",
       "      <td>-1.0</td>\n",
       "      <td>-0.9</td>\n",
       "      <td>-1.0</td>\n",
       "      <td>-1.1</td>\n",
       "      <td>-1.0</td>\n",
       "      <td>-0.9</td>\n",
       "      <td>-0.8</td>\n",
       "      <td>-0.9</td>\n",
       "      <td>-1.0</td>\n",
       "      <td>-1.0</td>\n",
       "      <td>-0.9</td>\n",
       "      <td>-0.8</td>\n",
       "    </tr>\n",
       "    <tr>\n",
       "      <th>73</th>\n",
       "      <td>2023</td>\n",
       "      <td>-0.7</td>\n",
       "      <td>-0.4</td>\n",
       "      <td>-0.1</td>\n",
       "      <td>0.2</td>\n",
       "      <td>0.5</td>\n",
       "      <td>0.8</td>\n",
       "      <td>1.1</td>\n",
       "      <td>1.3</td>\n",
       "      <td>1.6</td>\n",
       "      <td>1.8</td>\n",
       "      <td>1.9</td>\n",
       "      <td>2.0</td>\n",
       "    </tr>\n",
       "    <tr>\n",
       "      <th>74</th>\n",
       "      <td>2024</td>\n",
       "      <td>1.8</td>\n",
       "      <td>1.5</td>\n",
       "      <td>1.1</td>\n",
       "      <td>0.7</td>\n",
       "      <td>0.4</td>\n",
       "      <td>0.2</td>\n",
       "      <td>0.0</td>\n",
       "      <td>-0.1</td>\n",
       "      <td>NaN</td>\n",
       "      <td>NaN</td>\n",
       "      <td>NaN</td>\n",
       "      <td>NaN</td>\n",
       "    </tr>\n",
       "  </tbody>\n",
       "</table>\n",
       "</div>"
      ],
      "text/plain": [
       "    Year  DJF  JFM  FMA  MAM  AMJ  MJJ  JJA  JAS  ASO  SON  OND  NDJ\n",
       "70  2020  0.5  0.5  0.4  0.2 -0.1 -0.3 -0.4 -0.6 -0.9 -1.2 -1.3 -1.2\n",
       "71  2021 -1.0 -0.9 -0.8 -0.7 -0.5 -0.4 -0.4 -0.5 -0.7 -0.8 -1.0 -1.0\n",
       "72  2022 -1.0 -0.9 -1.0 -1.1 -1.0 -0.9 -0.8 -0.9 -1.0 -1.0 -0.9 -0.8\n",
       "73  2023 -0.7 -0.4 -0.1  0.2  0.5  0.8  1.1  1.3  1.6  1.8  1.9  2.0\n",
       "74  2024  1.8  1.5  1.1  0.7  0.4  0.2  0.0 -0.1  NaN  NaN  NaN  NaN"
      ]
     },
     "execution_count": 3,
     "metadata": {},
     "output_type": "execute_result"
    }
   ],
   "source": [
    "df.tail()"
   ]
  },
  {
   "cell_type": "code",
   "execution_count": 4,
   "metadata": {},
   "outputs": [],
   "source": [
    "df.dropna(inplace=True)"
   ]
  },
  {
   "cell_type": "code",
   "execution_count": 5,
   "metadata": {},
   "outputs": [],
   "source": [
    "# Drop the 'Year' column, as it is not needed for time series prediction\n",
    "data = df.drop(columns=['Year'])"
   ]
  },
  {
   "cell_type": "code",
   "execution_count": 6,
   "metadata": {},
   "outputs": [
    {
     "data": {
      "text/html": [
       "<div>\n",
       "<style scoped>\n",
       "    .dataframe tbody tr th:only-of-type {\n",
       "        vertical-align: middle;\n",
       "    }\n",
       "\n",
       "    .dataframe tbody tr th {\n",
       "        vertical-align: top;\n",
       "    }\n",
       "\n",
       "    .dataframe thead th {\n",
       "        text-align: right;\n",
       "    }\n",
       "</style>\n",
       "<table border=\"1\" class=\"dataframe\">\n",
       "  <thead>\n",
       "    <tr style=\"text-align: right;\">\n",
       "      <th></th>\n",
       "      <th>January</th>\n",
       "      <th>February</th>\n",
       "      <th>March</th>\n",
       "      <th>April</th>\n",
       "      <th>May</th>\n",
       "      <th>June</th>\n",
       "      <th>July</th>\n",
       "      <th>August</th>\n",
       "      <th>September</th>\n",
       "      <th>October</th>\n",
       "      <th>November</th>\n",
       "      <th>December</th>\n",
       "    </tr>\n",
       "  </thead>\n",
       "  <tbody>\n",
       "    <tr>\n",
       "      <th>0</th>\n",
       "      <td>-1.5</td>\n",
       "      <td>-1.3</td>\n",
       "      <td>-1.2</td>\n",
       "      <td>-1.2</td>\n",
       "      <td>-1.1</td>\n",
       "      <td>-0.9</td>\n",
       "      <td>-0.5</td>\n",
       "      <td>-0.4</td>\n",
       "      <td>-0.4</td>\n",
       "      <td>-0.4</td>\n",
       "      <td>-0.6</td>\n",
       "      <td>-0.8</td>\n",
       "    </tr>\n",
       "    <tr>\n",
       "      <th>1</th>\n",
       "      <td>-0.8</td>\n",
       "      <td>-0.5</td>\n",
       "      <td>-0.2</td>\n",
       "      <td>0.2</td>\n",
       "      <td>0.4</td>\n",
       "      <td>0.6</td>\n",
       "      <td>0.7</td>\n",
       "      <td>0.9</td>\n",
       "      <td>1.0</td>\n",
       "      <td>1.2</td>\n",
       "      <td>1.0</td>\n",
       "      <td>0.8</td>\n",
       "    </tr>\n",
       "    <tr>\n",
       "      <th>2</th>\n",
       "      <td>0.5</td>\n",
       "      <td>0.4</td>\n",
       "      <td>0.3</td>\n",
       "      <td>0.3</td>\n",
       "      <td>0.2</td>\n",
       "      <td>0.0</td>\n",
       "      <td>-0.1</td>\n",
       "      <td>0.0</td>\n",
       "      <td>0.2</td>\n",
       "      <td>0.1</td>\n",
       "      <td>0.0</td>\n",
       "      <td>0.1</td>\n",
       "    </tr>\n",
       "    <tr>\n",
       "      <th>3</th>\n",
       "      <td>0.4</td>\n",
       "      <td>0.6</td>\n",
       "      <td>0.6</td>\n",
       "      <td>0.7</td>\n",
       "      <td>0.8</td>\n",
       "      <td>0.8</td>\n",
       "      <td>0.7</td>\n",
       "      <td>0.7</td>\n",
       "      <td>0.8</td>\n",
       "      <td>0.8</td>\n",
       "      <td>0.8</td>\n",
       "      <td>0.8</td>\n",
       "    </tr>\n",
       "    <tr>\n",
       "      <th>4</th>\n",
       "      <td>0.8</td>\n",
       "      <td>0.5</td>\n",
       "      <td>0.0</td>\n",
       "      <td>-0.4</td>\n",
       "      <td>-0.5</td>\n",
       "      <td>-0.5</td>\n",
       "      <td>-0.6</td>\n",
       "      <td>-0.8</td>\n",
       "      <td>-0.9</td>\n",
       "      <td>-0.8</td>\n",
       "      <td>-0.7</td>\n",
       "      <td>-0.7</td>\n",
       "    </tr>\n",
       "    <tr>\n",
       "      <th>...</th>\n",
       "      <td>...</td>\n",
       "      <td>...</td>\n",
       "      <td>...</td>\n",
       "      <td>...</td>\n",
       "      <td>...</td>\n",
       "      <td>...</td>\n",
       "      <td>...</td>\n",
       "      <td>...</td>\n",
       "      <td>...</td>\n",
       "      <td>...</td>\n",
       "      <td>...</td>\n",
       "      <td>...</td>\n",
       "    </tr>\n",
       "    <tr>\n",
       "      <th>69</th>\n",
       "      <td>0.7</td>\n",
       "      <td>0.7</td>\n",
       "      <td>0.7</td>\n",
       "      <td>0.7</td>\n",
       "      <td>0.5</td>\n",
       "      <td>0.5</td>\n",
       "      <td>0.3</td>\n",
       "      <td>0.1</td>\n",
       "      <td>0.2</td>\n",
       "      <td>0.3</td>\n",
       "      <td>0.5</td>\n",
       "      <td>0.5</td>\n",
       "    </tr>\n",
       "    <tr>\n",
       "      <th>70</th>\n",
       "      <td>0.5</td>\n",
       "      <td>0.5</td>\n",
       "      <td>0.4</td>\n",
       "      <td>0.2</td>\n",
       "      <td>-0.1</td>\n",
       "      <td>-0.3</td>\n",
       "      <td>-0.4</td>\n",
       "      <td>-0.6</td>\n",
       "      <td>-0.9</td>\n",
       "      <td>-1.2</td>\n",
       "      <td>-1.3</td>\n",
       "      <td>-1.2</td>\n",
       "    </tr>\n",
       "    <tr>\n",
       "      <th>71</th>\n",
       "      <td>-1.0</td>\n",
       "      <td>-0.9</td>\n",
       "      <td>-0.8</td>\n",
       "      <td>-0.7</td>\n",
       "      <td>-0.5</td>\n",
       "      <td>-0.4</td>\n",
       "      <td>-0.4</td>\n",
       "      <td>-0.5</td>\n",
       "      <td>-0.7</td>\n",
       "      <td>-0.8</td>\n",
       "      <td>-1.0</td>\n",
       "      <td>-1.0</td>\n",
       "    </tr>\n",
       "    <tr>\n",
       "      <th>72</th>\n",
       "      <td>-1.0</td>\n",
       "      <td>-0.9</td>\n",
       "      <td>-1.0</td>\n",
       "      <td>-1.1</td>\n",
       "      <td>-1.0</td>\n",
       "      <td>-0.9</td>\n",
       "      <td>-0.8</td>\n",
       "      <td>-0.9</td>\n",
       "      <td>-1.0</td>\n",
       "      <td>-1.0</td>\n",
       "      <td>-0.9</td>\n",
       "      <td>-0.8</td>\n",
       "    </tr>\n",
       "    <tr>\n",
       "      <th>73</th>\n",
       "      <td>-0.7</td>\n",
       "      <td>-0.4</td>\n",
       "      <td>-0.1</td>\n",
       "      <td>0.2</td>\n",
       "      <td>0.5</td>\n",
       "      <td>0.8</td>\n",
       "      <td>1.1</td>\n",
       "      <td>1.3</td>\n",
       "      <td>1.6</td>\n",
       "      <td>1.8</td>\n",
       "      <td>1.9</td>\n",
       "      <td>2.0</td>\n",
       "    </tr>\n",
       "  </tbody>\n",
       "</table>\n",
       "<p>74 rows × 12 columns</p>\n",
       "</div>"
      ],
      "text/plain": [
       "    January  February  March  April  May  June  July  August  September  \\\n",
       "0      -1.5      -1.3   -1.2   -1.2 -1.1  -0.9  -0.5    -0.4       -0.4   \n",
       "1      -0.8      -0.5   -0.2    0.2  0.4   0.6   0.7     0.9        1.0   \n",
       "2       0.5       0.4    0.3    0.3  0.2   0.0  -0.1     0.0        0.2   \n",
       "3       0.4       0.6    0.6    0.7  0.8   0.8   0.7     0.7        0.8   \n",
       "4       0.8       0.5    0.0   -0.4 -0.5  -0.5  -0.6    -0.8       -0.9   \n",
       "..      ...       ...    ...    ...  ...   ...   ...     ...        ...   \n",
       "69      0.7       0.7    0.7    0.7  0.5   0.5   0.3     0.1        0.2   \n",
       "70      0.5       0.5    0.4    0.2 -0.1  -0.3  -0.4    -0.6       -0.9   \n",
       "71     -1.0      -0.9   -0.8   -0.7 -0.5  -0.4  -0.4    -0.5       -0.7   \n",
       "72     -1.0      -0.9   -1.0   -1.1 -1.0  -0.9  -0.8    -0.9       -1.0   \n",
       "73     -0.7      -0.4   -0.1    0.2  0.5   0.8   1.1     1.3        1.6   \n",
       "\n",
       "    October  November  December  \n",
       "0      -0.4      -0.6      -0.8  \n",
       "1       1.2       1.0       0.8  \n",
       "2       0.1       0.0       0.1  \n",
       "3       0.8       0.8       0.8  \n",
       "4      -0.8      -0.7      -0.7  \n",
       "..      ...       ...       ...  \n",
       "69      0.3       0.5       0.5  \n",
       "70     -1.2      -1.3      -1.2  \n",
       "71     -0.8      -1.0      -1.0  \n",
       "72     -1.0      -0.9      -0.8  \n",
       "73      1.8       1.9       2.0  \n",
       "\n",
       "[74 rows x 12 columns]"
      ]
     },
     "execution_count": 6,
     "metadata": {},
     "output_type": "execute_result"
    }
   ],
   "source": [
    "#### Replace all column names by overwritting on it\n",
    "\n",
    "cols = ['January','February','March','April','May','June','July','August','September','October','November','December']\n",
    "\n",
    "data.columns = cols\n",
    "\n",
    "data"
   ]
  },
  {
   "cell_type": "code",
   "execution_count": 7,
   "metadata": {},
   "outputs": [
    {
     "name": "stdout",
     "output_type": "stream",
     "text": [
      "Baris pertama DataFrame:\n",
      "    January  February  March  April  May  June  July  August  September  \\\n",
      "0      -1.5      -1.3   -1.2   -1.2 -1.1  -0.9  -0.5    -0.4       -0.4   \n",
      "1      -0.8      -0.5   -0.2    0.2  0.4   0.6   0.7     0.9        1.0   \n",
      "2       0.5       0.4    0.3    0.3  0.2   0.0  -0.1     0.0        0.2   \n",
      "3       0.4       0.6    0.6    0.7  0.8   0.8   0.7     0.7        0.8   \n",
      "4       0.8       0.5    0.0   -0.4 -0.5  -0.5  -0.6    -0.8       -0.9   \n",
      "..      ...       ...    ...    ...  ...   ...   ...     ...        ...   \n",
      "69      0.7       0.7    0.7    0.7  0.5   0.5   0.3     0.1        0.2   \n",
      "70      0.5       0.5    0.4    0.2 -0.1  -0.3  -0.4    -0.6       -0.9   \n",
      "71     -1.0      -0.9   -0.8   -0.7 -0.5  -0.4  -0.4    -0.5       -0.7   \n",
      "72     -1.0      -0.9   -1.0   -1.1 -1.0  -0.9  -0.8    -0.9       -1.0   \n",
      "73     -0.7      -0.4   -0.1    0.2  0.5   0.8   1.1     1.3        1.6   \n",
      "\n",
      "    October  November  December  \n",
      "0      -0.4      -0.6      -0.8  \n",
      "1       1.2       1.0       0.8  \n",
      "2       0.1       0.0       0.1  \n",
      "3       0.8       0.8       0.8  \n",
      "4      -0.8      -0.7      -0.7  \n",
      "..      ...       ...       ...  \n",
      "69      0.3       0.5       0.5  \n",
      "70     -1.2      -1.3      -1.2  \n",
      "71     -0.8      -1.0      -1.0  \n",
      "72     -1.0      -0.9      -0.8  \n",
      "73      1.8       1.9       2.0  \n",
      "\n",
      "[74 rows x 12 columns]\n"
     ]
    }
   ],
   "source": [
    "# Mengonversi kolom tanggal menjadi objek tanggal (jika perlu)\n",
    "if 'Date' in df.columns:\n",
    "   data['Date'] = pd.to_datetime(df['Date'], errors='coerce')\n",
    "\n",
    "# Tetapkan kolom tanggal sebagai indeks jika ada\n",
    "if 'Date' in df.columns:\n",
    "    data.set_index('Date', inplace=True)\n",
    "\n",
    "# Visualisasikan baris pertama DataFrame untuk memahami strukturnya\n",
    "print(\"Baris pertama DataFrame:\")\n",
    "print(data)"
   ]
  },
  {
   "cell_type": "code",
   "execution_count": 8,
   "metadata": {},
   "outputs": [
    {
     "name": "stdout",
     "output_type": "stream",
     "text": [
      "(60, 1) (14, 1)\n"
     ]
    }
   ],
   "source": [
    "# Setting 100 percent data for training\n",
    "training_data_len = math.ceil(len(df) * .8)\n",
    "training_data_len \n",
    "\n",
    "#Splitting the dataset\n",
    "train_data = data[:training_data_len].iloc[:,:1] \n",
    "test_data = data[training_data_len:].iloc[:,:1]\n",
    "print(train_data.shape, test_data.shape)"
   ]
  },
  {
   "cell_type": "code",
   "execution_count": 9,
   "metadata": {},
   "outputs": [
    {
     "name": "stdout",
     "output_type": "stream",
     "text": [
      "<class 'pandas.core.frame.DataFrame'>\n",
      "Index: 74 entries, 0 to 73\n",
      "Data columns (total 12 columns):\n",
      " #   Column     Non-Null Count  Dtype  \n",
      "---  ------     --------------  -----  \n",
      " 0   January    74 non-null     float64\n",
      " 1   February   74 non-null     float64\n",
      " 2   March      74 non-null     float64\n",
      " 3   April      74 non-null     float64\n",
      " 4   May        74 non-null     float64\n",
      " 5   June       74 non-null     float64\n",
      " 6   July       74 non-null     float64\n",
      " 7   August     74 non-null     float64\n",
      " 8   September  74 non-null     float64\n",
      " 9   October    74 non-null     float64\n",
      " 10  November   74 non-null     float64\n",
      " 11  December   74 non-null     float64\n",
      "dtypes: float64(12)\n",
      "memory usage: 7.5 KB\n"
     ]
    }
   ],
   "source": [
    "data.info()"
   ]
  },
  {
   "cell_type": "code",
   "execution_count": 10,
   "metadata": {},
   "outputs": [
    {
     "data": {
      "text/plain": [
       "(60, 1)"
      ]
     },
     "execution_count": 10,
     "metadata": {},
     "output_type": "execute_result"
    }
   ],
   "source": [
    "# Selecting Month values\n",
    "dataset_train = train_data.January.values \n",
    "# Reshaping 1D to 2D array\n",
    "dataset_train = np.reshape(dataset_train, (-1,1)) \n",
    "dataset_train.shape"
   ]
  },
  {
   "cell_type": "code",
   "execution_count": 11,
   "metadata": {},
   "outputs": [
    {
     "name": "stdout",
     "output_type": "stream",
     "text": [
      "[[0.075]\n",
      " [0.25 ]\n",
      " [0.575]\n",
      " [0.55 ]\n",
      " [0.65 ]]\n"
     ]
    }
   ],
   "source": [
    "scaler = MinMaxScaler(feature_range=(0,1))\n",
    "# scaling dataset\n",
    "scaled_train = scaler.fit_transform(dataset_train)\n",
    "\n",
    "print(scaled_train[:5])"
   ]
  },
  {
   "cell_type": "code",
   "execution_count": 12,
   "metadata": {},
   "outputs": [
    {
     "name": "stdout",
     "output_type": "stream",
     "text": [
      "[0.74358974] [0.] [0.12820513] [0.25641026] [0.25641026]\n"
     ]
    }
   ],
   "source": [
    "# Selecting Open Price values\n",
    "dataset_test = test_data.January.values \n",
    "# Reshaping 1D to 2D array\n",
    "dataset_test = np.reshape(dataset_test, (-1,1))  \n",
    "# Normalizing values between 0 and 1\n",
    "scaled_test = scaler.fit_transform(dataset_test)  \n",
    "print(*scaled_test[:5])"
   ]
  },
  {
   "cell_type": "code",
   "execution_count": 13,
   "metadata": {},
   "outputs": [
    {
     "name": "stdout",
     "output_type": "stream",
     "text": [
      "[array([0.075, 0.25 , 0.575, 0.55 , 0.65 , 0.275, 0.175, 0.4  , 0.9  ,\n",
      "       0.6  , 0.425, 0.45 , 0.4  , 0.35 , 0.725, 0.3  , 0.8  , 0.35 ,\n",
      "       0.3  , 0.725, 0.575, 0.1  , 0.275, 0.9  , 0.   , 0.325, 0.05 ,\n",
      "       0.625, 0.625, 0.45 , 0.6  , 0.375, 0.45 , 1.   , 0.3  , 0.2  ,\n",
      "       0.325, 0.75 , 0.65 , 0.025, 0.475, 0.55 , 0.875, 0.475, 0.475,\n",
      "       0.7  , 0.225, 0.325, 1.   , 0.075])]\n",
      "[0.025000000000000022]\n",
      "\n",
      "[array([0.075, 0.25 , 0.575, 0.55 , 0.65 , 0.275, 0.175, 0.4  , 0.9  ,\n",
      "       0.6  , 0.425, 0.45 , 0.4  , 0.35 , 0.725, 0.3  , 0.8  , 0.35 ,\n",
      "       0.3  , 0.725, 0.575, 0.1  , 0.275, 0.9  , 0.   , 0.325, 0.05 ,\n",
      "       0.625, 0.625, 0.45 , 0.6  , 0.375, 0.45 , 1.   , 0.3  , 0.2  ,\n",
      "       0.325, 0.75 , 0.65 , 0.025, 0.475, 0.55 , 0.875, 0.475, 0.475,\n",
      "       0.7  , 0.225, 0.325, 1.   , 0.075]), array([0.25 , 0.575, 0.55 , 0.65 , 0.275, 0.175, 0.4  , 0.9  , 0.6  ,\n",
      "       0.425, 0.45 , 0.4  , 0.35 , 0.725, 0.3  , 0.8  , 0.35 , 0.3  ,\n",
      "       0.725, 0.575, 0.1  , 0.275, 0.9  , 0.   , 0.325, 0.05 , 0.625,\n",
      "       0.625, 0.45 , 0.6  , 0.375, 0.45 , 1.   , 0.3  , 0.2  , 0.325,\n",
      "       0.75 , 0.65 , 0.025, 0.475, 0.55 , 0.875, 0.475, 0.475, 0.7  ,\n",
      "       0.225, 0.325, 1.   , 0.075, 0.025])]\n",
      "[0.025000000000000022, 0.275]\n",
      "\n"
     ]
    }
   ],
   "source": [
    "X_train = []\n",
    "y_train = []\n",
    "for i in range(50, len(scaled_train)):\n",
    "    X_train.append(scaled_train[i-50:i, 0])\n",
    "    y_train.append(scaled_train[i, 0])\n",
    "    if i <= 51:\n",
    "        print(X_train)\n",
    "        print(y_train)\n",
    "        print()"
   ]
  },
  {
   "cell_type": "code",
   "execution_count": 14,
   "metadata": {},
   "outputs": [],
   "source": [
    "X_test = []\n",
    "y_test = []\n",
    "for i in range(50, len(scaled_test)):\n",
    "    X_test.append(scaled_test[i-50:i, 0])\n",
    "    y_test.append(scaled_test[i, 0])"
   ]
  },
  {
   "cell_type": "code",
   "execution_count": 15,
   "metadata": {},
   "outputs": [
    {
     "name": "stdout",
     "output_type": "stream",
     "text": [
      "X_train : (10, 50, 1) y_train : (10, 1)\n"
     ]
    }
   ],
   "source": [
    "# The data is converted to Numpy array\n",
    "X_train, y_train = np.array(X_train), np.array(y_train)\n",
    "\n",
    "#Reshaping\n",
    "X_train = np.reshape(X_train, (X_train.shape[0], X_train.shape[1],1))\n",
    "y_train = np.reshape(y_train, (y_train.shape[0],1))\n",
    "print(\"X_train :\",X_train.shape,\"y_train :\",y_train.shape)"
   ]
  },
  {
   "cell_type": "code",
   "execution_count": 16,
   "metadata": {},
   "outputs": [
    {
     "name": "stdout",
     "output_type": "stream",
     "text": [
      "X_test: (0, 1, 1) y_test: (0, 1)\n"
     ]
    }
   ],
   "source": [
    "# The data is converted to numpy array\n",
    "X_test, y_test = np.array(X_test), np.array(y_test)\n",
    "\n",
    "# Jika X_test hanya 1D, tambahkan dimensi kedua\n",
    "if len(X_test.shape) == 1:\n",
    "    X_test = np.reshape(X_test, (X_test.shape[0], 1, 1))  # Misalnya 1 fitur per sampel\n",
    "elif len(X_test.shape) == 2:\n",
    "    X_test = np.reshape(X_test, (X_test.shape[0], X_test.shape[1], 1))  # Tambahkan dimensi ketiga\n",
    "\n",
    "# Reshape y_test hanya jika diperlukan (misalnya 2D ke 1D)\n",
    "y_test = np.reshape(y_test, (y_test.shape[0], 1))\n",
    "\n",
    "print(\"X_test:\", X_test.shape, \"y_test:\", y_test.shape)"
   ]
  },
  {
   "cell_type": "code",
   "execution_count": 17,
   "metadata": {},
   "outputs": [
    {
     "ename": "NameError",
     "evalue": "name 'X' is not defined",
     "output_type": "error",
     "traceback": [
      "\u001b[1;31m---------------------------------------------------------------------------\u001b[0m",
      "\u001b[1;31mNameError\u001b[0m                                 Traceback (most recent call last)",
      "Cell \u001b[1;32mIn[17], line 3\u001b[0m\n\u001b[0;32m      1\u001b[0m \u001b[38;5;66;03m# Define the RNN model\u001b[39;00m\n\u001b[0;32m      2\u001b[0m model \u001b[38;5;241m=\u001b[39m Sequential()\n\u001b[1;32m----> 3\u001b[0m model\u001b[38;5;241m.\u001b[39madd(SimpleRNN(\u001b[38;5;241m50\u001b[39m, activation\u001b[38;5;241m=\u001b[39m\u001b[38;5;124m'\u001b[39m\u001b[38;5;124mrelu\u001b[39m\u001b[38;5;124m'\u001b[39m, input_shape\u001b[38;5;241m=\u001b[39m(\u001b[43mX\u001b[49m\u001b[38;5;241m.\u001b[39mshape[\u001b[38;5;241m1\u001b[39m], X\u001b[38;5;241m.\u001b[39mshape[\u001b[38;5;241m2\u001b[39m])))\n\u001b[0;32m      4\u001b[0m model\u001b[38;5;241m.\u001b[39madd(Dense(\u001b[38;5;241m12\u001b[39m))\n\u001b[0;32m      6\u001b[0m \u001b[38;5;66;03m# Compile the model\u001b[39;00m\n",
      "\u001b[1;31mNameError\u001b[0m: name 'X' is not defined"
     ]
    }
   ],
   "source": []
  },
  {
   "cell_type": "code",
   "execution_count": 38,
   "metadata": {},
   "outputs": [
    {
     "data": {
      "text/plain": [
       "array([], shape=(0, 1, 1), dtype=float64)"
      ]
     },
     "execution_count": 38,
     "metadata": {},
     "output_type": "execute_result"
    }
   ],
   "source": [
    "X_test"
   ]
  },
  {
   "cell_type": "code",
   "execution_count": null,
   "metadata": {},
   "outputs": [],
   "source": []
  }
 ],
 "metadata": {
  "kernelspec": {
   "display_name": "Python 3",
   "language": "python",
   "name": "python3"
  },
  "language_info": {
   "codemirror_mode": {
    "name": "ipython",
    "version": 3
   },
   "file_extension": ".py",
   "mimetype": "text/x-python",
   "name": "python",
   "nbconvert_exporter": "python",
   "pygments_lexer": "ipython3",
   "version": "3.11.9"
  }
 },
 "nbformat": 4,
 "nbformat_minor": 2
}
