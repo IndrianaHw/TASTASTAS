{
 "cells": [
  {
   "cell_type": "code",
   "execution_count": 1,
   "id": "1b188549",
   "metadata": {},
   "outputs": [],
   "source": [
    "import xarray as xr\n",
    "import pandas as pd\n",
    "\n",
    "# Buka file NetCDF\n",
    "ds = xr.open_dataset('de8115ee5d5190ad7f6e4978b96cc467.nc')\n",
    "\n",
    "# Filter untuk wilayah Indonesia\n",
    "indonesia = ds.sel(latitude=slice(-11, 6), longitude=slice(95, 141))\n",
    "\n",
    "# Konversi ke DataFrame\n",
    "df = indonesia.to_dataframe()\n",
    "\n",
    "# Simpan ke Excel\n",
    "df.to_excel('data_ozon_indonesia.xlsx')"
   ]
  },
  {
   "cell_type": "code",
   "execution_count": 8,
   "id": "26adf616",
   "metadata": {},
   "outputs": [
    {
     "name": "stdout",
     "output_type": "stream",
     "text": [
      "Konversi selesai: data.txt -> data.csv -> data.xlsx\n"
     ]
    }
   ],
   "source": [
    "import csv\n",
    "import openpyxl\n",
    "\n",
    "def txt_to_csv(txt_file, csv_file, delimiter=','):\n",
    "    # Membaca file .txt dan menulis ke file .csv\n",
    "    with open(txt_file, 'r', encoding='utf-8') as infile, \\\n",
    "         open(csv_file, 'w', newline='', encoding='utf-8') as outfile:\n",
    "        reader = csv.reader(infile, delimiter=delimiter)\n",
    "        writer = csv.writer(outfile)\n",
    "        for row in reader:\n",
    "            writer.writerow(row)\n",
    "\n",
    "def csv_to_excel(csv_file, excel_file):\n",
    "    # Membaca file .csv dan menulis ke file Excel (.xlsx)\n",
    "    wb = openpyxl.Workbook()\n",
    "    ws = wb.active\n",
    "    with open(csv_file, 'r', encoding='utf-8') as infile:\n",
    "        reader = csv.reader(infile)\n",
    "        for row in reader:\n",
    "            ws.append(row)\n",
    "    wb.save(excel_file)\n",
    "\n",
    "if __name__ == \"__main__\":\n",
    "    txt_file = \"L3_ozone_omi_20041001.txt\"\n",
    "    csv_file = \"L3_ozone_omi_20041001.csv\"\n",
    "    excel_file = \"L3_ozone_omi_20041001.xlsx\"\n",
    "    delimiter = ','  # Ganti jika pemisah di file .txt adalah tab (\\t) atau spasi (' ')\n",
    "\n",
    "    txt_to_csv(txt_file, csv_file, delimiter)\n",
    "    csv_to_excel(csv_file, excel_file)\n",
    "    print(\"Konversi selesai: data.txt -> data.csv -> data.xlsx\")"
   ]
  },
  {
   "cell_type": "code",
   "execution_count": 6,
   "id": "8c69bcf4",
   "metadata": {},
   "outputs": [
    {
     "name": "stdout",
     "output_type": "stream",
     "text": [
      "{'GRIB_paramId': 206, 'GRIB_dataType': 'an', 'GRIB_numberOfPoints': 12765, 'GRIB_typeOfLevel': 'surface', 'GRIB_stepUnits': 1, 'GRIB_stepType': 'avgua', 'GRIB_gridType': 'regular_ll', 'GRIB_uvRelativeToGrid': 0, 'GRIB_NV': 0, 'GRIB_Nx': 185, 'GRIB_Ny': 69, 'GRIB_cfName': 'atmosphere_mass_content_of_ozone', 'GRIB_cfVarName': 'tco3', 'GRIB_gridDefinitionDescription': 'Latitude/Longitude Grid', 'GRIB_iDirectionIncrementInDegrees': 0.25, 'GRIB_iScansNegatively': 0, 'GRIB_jDirectionIncrementInDegrees': 0.25, 'GRIB_jPointsAreConsecutive': 0, 'GRIB_jScansPositively': 0, 'GRIB_latitudeOfFirstGridPointInDegrees': 6.0, 'GRIB_latitudeOfLastGridPointInDegrees': -11.0, 'GRIB_longitudeOfFirstGridPointInDegrees': 95.0, 'GRIB_longitudeOfLastGridPointInDegrees': 141.0, 'GRIB_missingValue': 3.4028234663852886e+38, 'GRIB_name': 'Total column ozone', 'GRIB_shortName': 'tco3', 'GRIB_totalNumber': 0, 'GRIB_units': 'kg m**-2', 'long_name': 'Total column ozone', 'units': 'kg m**-2', 'standard_name': 'atmosphere_mass_content_of_ozone', 'GRIB_surface': 0.0}\n"
     ]
    }
   ],
   "source": [
    "import xarray as xr\n",
    "ds = xr.open_dataset('Indonesia_ozone.nc')\n",
    "print(ds['tco3'].attrs)  # Cek 'units' dan 'long_name'"
   ]
  },
  {
   "cell_type": "code",
   "execution_count": 7,
   "id": "87ddbdbf",
   "metadata": {},
   "outputs": [
    {
     "name": "stdout",
     "output_type": "stream",
     "text": [
      "12.104268\n"
     ]
    }
   ],
   "source": [
    "import xarray as xr\n",
    "ds = xr.open_dataset('Indonesia_ozone.nc')\n",
    "ds['tco3_du'] = ds['tco3'] * 2241.15  # Konversi ke DU\n",
    "print(ds['tco3_du'].mean().values)  # Harus ~240-280 DU"
   ]
  },
  {
   "cell_type": "code",
   "execution_count": 8,
   "id": "c6b865bb",
   "metadata": {},
   "outputs": [
    {
     "name": "stdout",
     "output_type": "stream",
     "text": [
      "0.0054009156\n"
     ]
    }
   ],
   "source": [
    "print(ds['tco3'].mean().values)  # Harusnya ~0.107-0.125 kg/m²"
   ]
  },
  {
   "cell_type": "code",
   "execution_count": 1,
   "id": "3f1ac3a8",
   "metadata": {},
   "outputs": [
    {
     "name": "stdout",
     "output_type": "stream",
     "text": [
      "KeysView(Frozen({'number': <xarray.Variable ()> Size: 8B\n",
      "[1 values with dtype=int64]\n",
      "Attributes:\n",
      "    long_name:      ensemble member numerical id\n",
      "    units:          1\n",
      "    standard_name:  realization, 'valid_time': <xarray.IndexVariable 'valid_time' (valid_time: 420)> Size: 3kB\n",
      "array(['1987-01-01T00:00:00.000000000', '1987-02-01T00:00:00.000000000',\n",
      "       '1987-03-01T00:00:00.000000000', ..., '2021-10-01T00:00:00.000000000',\n",
      "       '2021-11-01T00:00:00.000000000', '2021-12-01T00:00:00.000000000'],\n",
      "      dtype='datetime64[ns]')\n",
      "Attributes:\n",
      "    long_name:      time\n",
      "    standard_name:  time, 'latitude': <xarray.IndexVariable 'latitude' (latitude: 9)> Size: 72B\n",
      "array([-6.57, -6.82, -7.07, -7.32, -7.57, -7.82, -8.07, -8.32, -8.57])\n",
      "Attributes:\n",
      "    units:             degrees_north\n",
      "    standard_name:     latitude\n",
      "    long_name:         latitude\n",
      "    stored_direction:  decreasing, 'longitude': <xarray.IndexVariable 'longitude' (longitude: 9)> Size: 72B\n",
      "array([111.67, 111.92, 112.17, 112.42, 112.67, 112.92, 113.17, 113.42, 113.67])\n",
      "Attributes:\n",
      "    units:          degrees_east\n",
      "    standard_name:  longitude\n",
      "    long_name:      longitude, 'expver': <xarray.Variable (valid_time: 420)> Size: 7kB\n",
      "[420 values with dtype=<U4], 'tco3': <xarray.Variable (valid_time: 420, latitude: 9, longitude: 9)> Size: 136kB\n",
      "[34020 values with dtype=float32]\n",
      "Attributes: (12/32)\n",
      "    GRIB_paramId:                             206\n",
      "    GRIB_dataType:                            an\n",
      "    GRIB_numberOfPoints:                      81\n",
      "    GRIB_typeOfLevel:                         surface\n",
      "    GRIB_stepUnits:                           1\n",
      "    GRIB_stepType:                            avgua\n",
      "    ...                                       ...\n",
      "    GRIB_totalNumber:                         0\n",
      "    GRIB_units:                               kg m**-2\n",
      "    long_name:                                Total column ozone\n",
      "    units:                                    kg m**-2\n",
      "    standard_name:                            atmosphere_mass_content_of_ozone\n",
      "    GRIB_surface:                             0.0}))\n",
      "[[[0.00515131 0.00515127 0.00515135 ... 0.00515112 0.00515025 0.00514906]\n",
      "  [0.00515278 0.00515334 0.00515509 ... 0.00515587 0.00515495 0.00515468]\n",
      "  [0.00515524 0.00515617 0.00515882 ... 0.00515948 0.00516009 0.00515984]\n",
      "  ...\n",
      "  [0.00516994 0.00517293 0.00516867 ... 0.00515191 0.00515324 0.00514751]\n",
      "  [0.00518145 0.0051829  0.00518159 ... 0.00517499 0.00517726 0.00517281]\n",
      "  [0.00519108 0.00519082 0.00518944 ... 0.00518851 0.00518852 0.00518637]]\n",
      "\n",
      " [[0.00501721 0.00501691 0.00501671 ... 0.00501453 0.00501389 0.00501333]\n",
      "  [0.00501705 0.00501728 0.00501849 ... 0.00501676 0.00501605 0.00501577]\n",
      "  [0.00501656 0.00501718 0.00501919 ... 0.00501739 0.0050179  0.00501761]\n",
      "  ...\n",
      "  [0.00501923 0.00502187 0.00501779 ... 0.00500274 0.00500423 0.00499954]\n",
      "  [0.00503077 0.00503189 0.00503089 ... 0.00502482 0.0050267  0.00502237]\n",
      "  [0.0050402  0.00504051 0.00503953 ... 0.00503871 0.00503857 0.00503635]]\n",
      "\n",
      " [[0.00513028 0.00512919 0.00512812 ... 0.00512335 0.00512202 0.00512083]\n",
      "  [0.0051324  0.00513175 0.00513196 ... 0.00512737 0.00512594 0.00512507]\n",
      "  [0.00513455 0.00513467 0.00513564 ... 0.0051307  0.00513062 0.00512981]\n",
      "  ...\n",
      "  [0.00514623 0.00514839 0.00514313 ... 0.00512976 0.00512991 0.00512452]\n",
      "  [0.00516026 0.0051608  0.00515895 ... 0.00515238 0.00515314 0.0051481 ]\n",
      "  [0.00517266 0.00517208 0.00517034 ... 0.00516692 0.00516568 0.00516251]]\n",
      "\n",
      " ...\n",
      "\n",
      " [[0.00563206 0.00563123 0.00563012 ... 0.00562812 0.00562823 0.00562867]\n",
      "  [0.00563686 0.00563652 0.00563703 ... 0.00563531 0.00563531 0.00563593]\n",
      "  [0.00564221 0.00564252 0.00564402 ... 0.00564198 0.00564341 0.00564407]\n",
      "  ...\n",
      "  [0.00566637 0.00567065 0.0056635  ... 0.00564797 0.0056492  0.00564317]\n",
      "  [0.00568575 0.00568773 0.0056858  ... 0.00567994 0.00568188 0.00567621]\n",
      "  [0.00570371 0.00570368 0.00570205 ... 0.00570153 0.00570037 0.00569715]]\n",
      "\n",
      " [[0.00552139 0.00552199 0.00552142 ... 0.00551824 0.00551818 0.00551842]\n",
      "  [0.00552509 0.00552675 0.00552849 ... 0.00552672 0.00552668 0.00552775]\n",
      "  [0.00552831 0.00553067 0.00553346 ... 0.00553327 0.00553554 0.00553671]\n",
      "  ...\n",
      "  [0.0055484  0.005555   0.00555053 ... 0.00554327 0.00554514 0.00554096]\n",
      "  [0.00556503 0.00556948 0.00556938 ... 0.0055737  0.00557653 0.00557268]\n",
      "  [0.00558039 0.00558341 0.00558391 ... 0.00559535 0.00559691 0.00559529]]\n",
      "\n",
      " [[0.00550767 0.00550765 0.00550817 ... 0.00550895 0.00550943 0.0055093 ]\n",
      "  [0.00551087 0.00551134 0.00551312 ... 0.00551513 0.0055156  0.00551689]\n",
      "  [0.00551427 0.00551507 0.0055176  ... 0.00551985 0.00552296 0.00552436]\n",
      "  ...\n",
      "  [0.0055355  0.00554109 0.00553782 ... 0.00553149 0.00553507 0.00553083]\n",
      "  [0.005555   0.00555885 0.00555935 ... 0.00556439 0.00556913 0.00556657]\n",
      "  [0.00557444 0.00557646 0.00557702 ... 0.00558502 0.0055872  0.00558748]]]\n"
     ]
    }
   ],
   "source": [
    "import xarray as xr\n",
    "\n",
    "# Baca file\n",
    "data = xr.open_dataset('Total Column Ozone.nc')\n",
    "\n",
    "# Cek daftar variabel\n",
    "print(data.variables.keys())  # Pastikan ada variabel seperti 'tco3' atau 'ozone'\n",
    "\n",
    "# Akses data TCO benar\n",
    "tco_data = data['tco3']  # Ganti 'tco3' dengan nama variabel sebenarnya\n",
    "print(tco_data.values)  # Nilai seharusnya 1.0–1.25 kg/m² untuk tropis\n",
    "\n",
    "# Simpan ke CSV jika perlu\n",
    "tco_data.to_dataframe().to_csv('ozone_data.csv')"
   ]
  },
  {
   "cell_type": "code",
   "execution_count": 1,
   "id": "6e41ea07",
   "metadata": {},
   "outputs": [],
   "source": [
    "import pandas as pd\n",
    "\n",
    "# Baca file Excel\n",
    "df = pd.read_excel(\"Data Bulanan ERA5.xlsx\")\n",
    "\n",
    "# Ubah kolom Date ke format datetime\n",
    "df['Date'] = pd.to_datetime(df['Date'])\n",
    "\n",
    "# Tambahkan kolom jumlah hari dalam bulan\n",
    "df['Days_in_Month'] = df['Date'].dt.days_in_month\n",
    "\n",
    "# Hitung total curah hujan bulanan\n",
    "df['Total_Precipitation'] = df['ERA5'] * df['Days_in_Month']\n",
    "\n",
    "# Simpan ke file baru\n",
    "df.to_excel(\"Total_Precipitation_ERA5.xlsx\", index=False)"
   ]
  }
 ],
 "metadata": {
  "kernelspec": {
   "display_name": "Python 3",
   "language": "python",
   "name": "python3"
  },
  "language_info": {
   "codemirror_mode": {
    "name": "ipython",
    "version": 3
   },
   "file_extension": ".py",
   "mimetype": "text/x-python",
   "name": "python",
   "nbconvert_exporter": "python",
   "pygments_lexer": "ipython3",
   "version": "3.11.9"
  }
 },
 "nbformat": 4,
 "nbformat_minor": 5
}
